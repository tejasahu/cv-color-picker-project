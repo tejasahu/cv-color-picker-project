{
 "cells": [
  {
   "cell_type": "code",
   "execution_count": 4,
   "metadata": {},
   "outputs": [
    {
     "ename": "error",
     "evalue": "OpenCV(4.5.3) C:\\Users\\runneradmin\\AppData\\Local\\Temp\\pip-req-build-c2l3r8zm\\opencv\\modules\\highgui\\src\\window_w32.cpp:2577: error: (-27:Null pointer) NULL window: 'Color Picker' in function 'cvGetTrackbarPos'\n",
     "output_type": "error",
     "traceback": [
      "\u001b[1;31m---------------------------------------------------------------------------\u001b[0m",
      "\u001b[1;31merror\u001b[0m                                     Traceback (most recent call last)",
      "\u001b[1;32m<ipython-input-4-8db39f9b6d78>\u001b[0m in \u001b[0;36m<module>\u001b[1;34m\u001b[0m\n\u001b[0;32m     25\u001b[0m \u001b[1;33m\u001b[0m\u001b[0m\n\u001b[0;32m     26\u001b[0m     \u001b[1;31m#set current positions of four bars\u001b[0m\u001b[1;33m\u001b[0m\u001b[1;33m\u001b[0m\u001b[1;33m\u001b[0m\u001b[0m\n\u001b[1;32m---> 27\u001b[1;33m     \u001b[0ms\u001b[0m \u001b[1;33m=\u001b[0m \u001b[0mcv2\u001b[0m\u001b[1;33m.\u001b[0m\u001b[0mgetTrackbarPos\u001b[0m\u001b[1;33m(\u001b[0m\u001b[0ms1\u001b[0m\u001b[1;33m,\u001b[0m\u001b[1;34m\"Color Picker\"\u001b[0m\u001b[1;33m)\u001b[0m \u001b[1;31m#switch\u001b[0m\u001b[1;33m\u001b[0m\u001b[1;33m\u001b[0m\u001b[0m\n\u001b[0m\u001b[0;32m     28\u001b[0m     \u001b[0mr\u001b[0m \u001b[1;33m=\u001b[0m \u001b[0mcv2\u001b[0m\u001b[1;33m.\u001b[0m\u001b[0mgetTrackbarPos\u001b[0m\u001b[1;33m(\u001b[0m\u001b[1;34m\"R\"\u001b[0m\u001b[1;33m,\u001b[0m\u001b[1;34m\"Color Picker\"\u001b[0m\u001b[1;33m)\u001b[0m\u001b[1;33m\u001b[0m\u001b[1;33m\u001b[0m\u001b[0m\n\u001b[0;32m     29\u001b[0m     \u001b[0mg\u001b[0m \u001b[1;33m=\u001b[0m \u001b[0mcv2\u001b[0m\u001b[1;33m.\u001b[0m\u001b[0mgetTrackbarPos\u001b[0m\u001b[1;33m(\u001b[0m\u001b[1;34m\"G\"\u001b[0m\u001b[1;33m,\u001b[0m\u001b[1;34m\"Color Picker\"\u001b[0m\u001b[1;33m)\u001b[0m\u001b[1;33m\u001b[0m\u001b[1;33m\u001b[0m\u001b[0m\n",
      "\u001b[1;31merror\u001b[0m: OpenCV(4.5.3) C:\\Users\\runneradmin\\AppData\\Local\\Temp\\pip-req-build-c2l3r8zm\\opencv\\modules\\highgui\\src\\window_w32.cpp:2577: error: (-27:Null pointer) NULL window: 'Color Picker' in function 'cvGetTrackbarPos'\n"
     ]
    }
   ],
   "source": [
    "import cv2\n",
    "import numpy as np\n",
    "\n",
    "def cross(x):\n",
    "    pass\n",
    "#create a black imgae\n",
    "img = np.zeros((300,512,3),np.uint8) #empty image\n",
    "cv2.namedWindow(\"Color Picker\")\n",
    "\n",
    "#Creating switch for on and of the trackbars\n",
    "s1 = '0 : OFF \\n1 : ON'\n",
    "cv2.createTrackbar(s1, 'Color Picker',0,1,cross)\n",
    "\n",
    "#Creating TrackBars For Adjusting Colors\n",
    "cv2.createTrackbar(\"R\",\"Color Picker\",0,255,cross)\n",
    "cv2.createTrackbar(\"G\",\"Color Picker\",0,255,cross)\n",
    "cv2.createTrackbar(\"B\",\"Color Picker\",0,255,cross)\n",
    "\n",
    "#Now creating logic to handle trackbars\n",
    "while True:\n",
    "    cv2.imshow(\"Color Picker\",img)\n",
    "    k = cv2.waitKey(1) \n",
    "    if k==27: #for exit\n",
    "        break\n",
    "\n",
    "    #set current positions of four bars\n",
    "    s = cv2.getTrackbarPos(s1,\"Color Picker\") #switch\n",
    "    r = cv2.getTrackbarPos(\"R\",\"Color Picker\")\n",
    "    g = cv2.getTrackbarPos(\"G\",\"Color Picker\")\n",
    "    b = cv2.getTrackbarPos(\"B\",\"Color Picker\")\n",
    "\n",
    "    if s==0:\n",
    "        img[:] = 0\n",
    "    else:\n",
    "        img[:] = [r,g,b] #here openCV support BGR\n",
    "cv2.destroyAllWindows()\n",
    "\n",
    "    "
   ]
  },
  {
   "cell_type": "code",
   "execution_count": null,
   "metadata": {},
   "outputs": [],
   "source": []
  }
 ],
 "metadata": {
  "kernelspec": {
   "display_name": "Python 3",
   "language": "python",
   "name": "python3"
  },
  "language_info": {
   "codemirror_mode": {
    "name": "ipython",
    "version": 3
   },
   "file_extension": ".py",
   "mimetype": "text/x-python",
   "name": "python",
   "nbconvert_exporter": "python",
   "pygments_lexer": "ipython3",
   "version": "3.7.6"
  }
 },
 "nbformat": 4,
 "nbformat_minor": 4
}
